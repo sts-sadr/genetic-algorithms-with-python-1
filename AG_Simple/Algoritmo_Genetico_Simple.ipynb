{
 "cells": [
  {
   "cell_type": "markdown",
   "metadata": {},
   "source": [
    "# Algoritmo Genético Simple\n",
    "## Ejemplo de implementación\n",
    "\n",
    "Objetivo:\n",
    "\n",
    "Maximizar la siguiente función:\n",
    "\n",
    "$$f(x, y) = 21.5 + x*sin(4\\pi*x) + y*sin(20\\pi*y)$$"
   ]
  },
  {
   "cell_type": "code",
   "execution_count": 4,
   "metadata": {},
   "outputs": [],
   "source": [
    "import numpy as np"
   ]
  },
  {
   "cell_type": "markdown",
   "metadata": {},
   "source": [
    "Parámetros"
   ]
  },
  {
   "cell_type": "code",
   "execution_count": 9,
   "metadata": {},
   "outputs": [],
   "source": [
    "n = 100 # Número de individuos\n",
    "p_c = 0.9 # Probabilidad de cruzamiento\n",
    "p_m = 0.01 # Probabilidad de mutación\n",
    "max_gen = 1000 # Número máximo de generaciones\n",
    "n_variables = 2 # variables x,y"
   ]
  },
  {
   "cell_type": "code",
   "execution_count": 52,
   "metadata": {},
   "outputs": [],
   "source": [
    "# Definimos los rangos de las variables\n",
    "rango_x = (-3.0, 12.1)\n",
    "rango_y = (4.1, 5.8)\n",
    "presicion = 4"
   ]
  },
  {
   "cell_type": "code",
   "execution_count": 54,
   "metadata": {},
   "outputs": [
    {
     "data": {
      "text/plain": [
       "33"
      ]
     },
     "execution_count": 54,
     "metadata": {},
     "output_type": "execute_result"
    }
   ],
   "source": [
    "# Tamaño de las cadenas correspondientes a cada variable\n",
    "def tamano_cadena(rango, presicion):\n",
    "    L = np.ceil( np.log2((rango[1] - rango[0]) * 10**presicion) )\n",
    "    return int(L)\n",
    "\n",
    "L_x = tamano_cadena(rango_x, presicion)\n",
    "L_y = tamano_cadena(rango_y, presicion)\n",
    "\n",
    "# Ahora sí definimos el tamaño d ela cadena\n",
    "l = L_x + L_y\n",
    "l"
   ]
  },
  {
   "cell_type": "markdown",
   "metadata": {},
   "source": [
    "También tenemos que definir los rangos de las variables:"
   ]
  },
  {
   "cell_type": "markdown",
   "metadata": {},
   "source": [
    "Variables de monitoreo:"
   ]
  },
  {
   "cell_type": "code",
   "execution_count": 55,
   "metadata": {},
   "outputs": [],
   "source": [
    "best_fitness = np.zeros(max_gen)\n",
    "best_genotipe = np.zeros([n, l * n_variables])"
   ]
  },
  {
   "cell_type": "markdown",
   "metadata": {},
   "source": [
    "### Creación de la población inicial"
   ]
  },
  {
   "cell_type": "code",
   "execution_count": 56,
   "metadata": {},
   "outputs": [],
   "source": [
    "def crear_poblacion(n, l):\n",
    "    pob = np.random.randint(low = 0, high = 2, size = (n, l))\n",
    "    return pob"
   ]
  },
  {
   "cell_type": "code",
   "execution_count": 209,
   "metadata": {},
   "outputs": [],
   "source": [
    "import re\n",
    "\n",
    "def binarioADecimal(genotipo):\n",
    "    string = str(genotipo).replace(']', '').replace('[', '').replace(' ', '')\n",
    "    decimal = int(string, 2)\n",
    "    return decimal\n",
    "\n",
    "def decodifica(genotipo, rango_x, rango_y):\n",
    "    L_x = tamano_cadena(x_range, presicion)\n",
    "    L_y = tamano_cadena(y_range, presicion)\n",
    "    \n",
    "    R_x = (rango_x[1] - rango_x[0]) / (2**L_x - 1)\n",
    "    x = rango_x[0] + binarioADecimal(genotipo[:L_x])  * R_x\n",
    "    \n",
    "    R_y = (rango_y[1] - rango_y[0]) / (2**L_y - 1)\n",
    "    y = rango_y[0] + binarioADecimal(genotipo[- L_y:])  * R_y\n",
    "    return x, y\n",
    "\n",
    "def get_fenotipo(genotipo, rango_x, rango_y):\n",
    "    fenotipo = np.apply_along_axis(decodifica, axis = 0, arr = genotipo, \n",
    "                    rango_x = rango_x, rango_y = rango_y)\n",
    "    \n",
    "def objective_function(fenotipo):\n",
    "    x = fenotipo[0]\n",
    "    y = fenotipo[1]\n",
    "    f = 21.5 + (x*np.sin(4*np.pi*x)) + y*np.sin(20*np.pi*y)\n",
    "    return f\n",
    "\n",
    "def eval_obj_function(fenotipos):\n",
    "    fitness = np.apply_along_axis(objective_function, axis = 1, arr = fenotipos)\n",
    "    return fitness\n",
    "\n",
    "def rankeo(fitness, maximize = True):\n",
    "    if maximize: fitness = -1 * fitness\n",
    "    aptitud = fitness.argsort()\n",
    "    return aptitud\n",
    "\n",
    "def seleccion_ruleta(genotipo, fitness):\n",
    "    total = fitness.sum()\n",
    "    prob_seleccion = fitness/total\n",
    "    prob_acumulada = np.cumsum(prob_seleccion)\n",
    "    # iteramos por cada individuo\n",
    "    n_individuos, l = genotipo.shape\n",
    "    nuevo_genotipo = np.zeros([n_individuos, l])\n",
    "    for n in range(n_individuos):\n",
    "        # Valor aleatorio para seleccionar al individuo\n",
    "        cutoff = np.random.rand()\n",
    "        inds_seleccionados = prob_acumulada[prob_acumulada >= cutoff]\n",
    "        print(inds_seleccionados[0])\n",
    "    return prob_acumulada"
   ]
  },
  {
   "cell_type": "code",
   "execution_count": 210,
   "metadata": {},
   "outputs": [
    {
     "data": {
      "text/plain": [
       "(100, 33)"
      ]
     },
     "execution_count": 210,
     "metadata": {},
     "output_type": "execute_result"
    }
   ],
   "source": [
    "genotipos.shape"
   ]
  },
  {
   "cell_type": "code",
   "execution_count": 211,
   "metadata": {},
   "outputs": [
    {
     "name": "stdout",
     "output_type": "stream",
     "text": [
      "0.019393939393939394\n",
      "0.978585858585859\n",
      "0.5030303030303032\n",
      "0.5785858585858586\n",
      "0.4082828282828283\n",
      "0.0797979797979798\n",
      "0.25414141414141417\n",
      "0.7983838383838386\n",
      "0.3668686868686869\n",
      "0.9060606060606063\n",
      "0.22707070707070706\n",
      "0.09757575757575758\n",
      "0.7076767676767678\n",
      "0.6753535353535355\n",
      "0.7583838383838385\n",
      "0.4890909090909092\n",
      "0.7583838383838385\n",
      "0.09757575757575758\n",
      "0.631919191919192\n",
      "0.7945454545454548\n",
      "0.06545454545454546\n",
      "0.5030303030303032\n",
      "0.8155555555555558\n",
      "0.17757575757575758\n",
      "0.282020202020202\n",
      "0.9373737373737377\n",
      "0.4082828282828283\n",
      "0.7945454545454548\n",
      "0.7187878787878789\n",
      "0.436969696969697\n",
      "0.6753535353535355\n",
      "0.3476767676767677\n",
      "0.22707070707070706\n",
      "0.7583838383838385\n",
      "0.14606060606060606\n",
      "0.7076767676767678\n",
      "0.21414141414141413\n",
      "0.6870707070707072\n",
      "0.25414141414141417\n",
      "0.8325252525252528\n",
      "0.436969696969697\n",
      "0.5785858585858586\n",
      "0.17191919191919192\n",
      "0.38707070707070707\n",
      "0.0797979797979798\n",
      "0.6753535353535355\n",
      "0.46686868686868693\n",
      "0.15838383838383838\n",
      "0.4082828282828283\n",
      "0.046868686868686865\n",
      "0.5955555555555556\n",
      "0.7400000000000001\n",
      "0.5202020202020203\n",
      "0.8325252525252528\n",
      "0.436969696969697\n",
      "0.3668686868686869\n",
      "0.3092929292929293\n",
      "0.6577777777777779\n",
      "0.8155555555555558\n",
      "0.6222222222222223\n",
      "0.4890909090909092\n",
      "0.6870707070707072\n",
      "0.7983838383838386\n",
      "0.8325252525252528\n",
      "0.9141414141414145\n",
      "0.06545454545454546\n",
      "0.3476767676767677\n",
      "0.5311111111111112\n",
      "0.11515151515151514\n",
      "0.6753535353535355\n",
      "0.0797979797979798\n",
      "0.1303030303030303\n",
      "0.7583838383838385\n",
      "0.0301010101010101\n",
      "0.46686868686868693\n",
      "0.3092929292929293\n",
      "0.06545454545454546\n",
      "0.3903030303030303\n",
      "0.7076767676767678\n",
      "0.9650505050505055\n",
      "0.6753535353535355\n",
      "0.592929292929293\n",
      "0.2682828282828283\n",
      "0.6474747474747476\n",
      "0.1303030303030303\n",
      "0.5955555555555556\n",
      "0.5424242424242425\n",
      "0.25414141414141417\n",
      "0.7400000000000001\n",
      "0.20464646464646463\n",
      "0.5202020202020203\n",
      "0.381010101010101\n",
      "0.046868686868686865\n",
      "0.978585858585859\n",
      "0.3476767676767677\n",
      "0.0301010101010101\n",
      "0.3668686868686869\n",
      "0.09757575757575758\n",
      "0.21414141414141413\n",
      "0.282020202020202\n"
     ]
    },
    {
     "data": {
      "text/plain": [
       "array([0.01939394, 0.03010101, 0.04686869, 0.06545455, 0.07979798,\n",
       "       0.09757576, 0.0989899 , 0.11515152, 0.13030303, 0.14606061,\n",
       "       0.15838384, 0.15858586, 0.17191919, 0.17757576, 0.18484848,\n",
       "       0.20464646, 0.21414141, 0.22707071, 0.2420202 , 0.24323232,\n",
       "       0.24505051, 0.25414141, 0.25515152, 0.26828283, 0.2820202 ,\n",
       "       0.28444444, 0.29919192, 0.30929293, 0.31919192, 0.31919192,\n",
       "       0.32363636, 0.33616162, 0.34767677, 0.36686869, 0.3810101 ,\n",
       "       0.38707071, 0.39030303, 0.40828283, 0.4210101 , 0.42808081,\n",
       "       0.4369697 , 0.44      , 0.44060606, 0.44686869, 0.46686869,\n",
       "       0.46969697, 0.47010101, 0.48909091, 0.5030303 , 0.50828283,\n",
       "       0.52020202, 0.53111111, 0.54242424, 0.5579798 , 0.56262626,\n",
       "       0.57858586, 0.58363636, 0.59292929, 0.59555556, 0.59757576,\n",
       "       0.6040404 , 0.62222222, 0.63191919, 0.63535354, 0.63959596,\n",
       "       0.64747475, 0.65777778, 0.67535354, 0.68707071, 0.69111111,\n",
       "       0.70767677, 0.71878788, 0.72464646, 0.74      , 0.75838384,\n",
       "       0.76525253, 0.77353535, 0.77717172, 0.79454545, 0.79838384,\n",
       "       0.79919192, 0.81555556, 0.83252525, 0.84969697, 0.85717172,\n",
       "       0.87676768, 0.88727273, 0.90606061, 0.91414141, 0.92282828,\n",
       "       0.93737374, 0.93959596, 0.94444444, 0.95292929, 0.96505051,\n",
       "       0.97858586, 0.9840404 , 0.98565657, 0.99333333, 1.        ])"
      ]
     },
     "execution_count": 211,
     "metadata": {},
     "output_type": "execute_result"
    }
   ],
   "source": [
    "genotipos = crear_poblacion(n, l)\n",
    "\n",
    "fenotipos = np.apply_along_axis(decodifica, axis = 1, arr = genotipos, \n",
    "                    rango_x = rango_x, rango_y = rango_y)\n",
    "\n",
    "objv = eval_obj_function(fenotipos)\n",
    "fitness = rankeo(fitness)\n",
    "seleccion_ruleta(genotipos, fitness)"
   ]
  },
  {
   "cell_type": "code",
   "execution_count": null,
   "metadata": {},
   "outputs": [],
   "source": []
  },
  {
   "cell_type": "code",
   "execution_count": null,
   "metadata": {},
   "outputs": [],
   "source": []
  },
  {
   "cell_type": "code",
   "execution_count": null,
   "metadata": {},
   "outputs": [],
   "source": []
  }
 ],
 "metadata": {
  "kernelspec": {
   "display_name": "Python 3",
   "language": "python",
   "name": "python3"
  },
  "language_info": {
   "codemirror_mode": {
    "name": "ipython",
    "version": 3
   },
   "file_extension": ".py",
   "mimetype": "text/x-python",
   "name": "python",
   "nbconvert_exporter": "python",
   "pygments_lexer": "ipython3",
   "version": "3.7.4"
  }
 },
 "nbformat": 4,
 "nbformat_minor": 2
}
