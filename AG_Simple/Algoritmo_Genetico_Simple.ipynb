{
 "cells": [
  {
   "cell_type": "markdown",
   "metadata": {},
   "source": [
    "# Algoritmo Genético Simple\n",
    "## Ejemplo de implementación\n",
    "\n",
    "Objetivo:\n",
    "\n",
    "Maximizar la siguiente función:\n",
    "\n",
    "$$f(x, y) = 21.5 + x*sin(4\\pi*x) + y*sin(20\\pi*y)$$"
   ]
  },
  {
   "cell_type": "code",
   "execution_count": 4,
   "metadata": {},
   "outputs": [],
   "source": [
    "import numpy as np"
   ]
  },
  {
   "cell_type": "markdown",
   "metadata": {},
   "source": [
    "Parámetros"
   ]
  },
  {
   "cell_type": "code",
   "execution_count": 9,
   "metadata": {},
   "outputs": [],
   "source": [
    "n = 100 # Número de individuos\n",
    "p_c = 0.9 # Probabilidad de cruzamiento\n",
    "p_m = 0.01 # Probabilidad de mutación\n",
    "max_gen = 1000 # Número máximo de generaciones\n",
    "n_variables = 2 # variables x,y"
   ]
  },
  {
   "cell_type": "code",
   "execution_count": 52,
   "metadata": {},
   "outputs": [],
   "source": [
    "# Definimos los rangos de las variables\n",
    "rango_x = (-3.0, 12.1)\n",
    "rango_y = (4.1, 5.8)\n",
    "presicion = 4"
   ]
  },
  {
   "cell_type": "code",
   "execution_count": 54,
   "metadata": {},
   "outputs": [
    {
     "data": {
      "text/plain": [
       "33"
      ]
     },
     "execution_count": 54,
     "metadata": {},
     "output_type": "execute_result"
    }
   ],
   "source": [
    "# Tamaño de las cadenas correspondientes a cada variable\n",
    "def tamano_cadena(rango, presicion):\n",
    "    L = np.ceil( np.log2((rango[1] - rango[0]) * 10**presicion) )\n",
    "    return int(L)\n",
    "\n",
    "L_x = tamano_cadena(rango_x, presicion)\n",
    "L_y = tamano_cadena(rango_y, presicion)\n",
    "\n",
    "# Ahora sí definimos el tamaño d ela cadena\n",
    "l = L_x + L_y\n",
    "l"
   ]
  },
  {
   "cell_type": "markdown",
   "metadata": {},
   "source": [
    "También tenemos que definir los rangos de las variables:"
   ]
  },
  {
   "cell_type": "markdown",
   "metadata": {},
   "source": [
    "Variables de monitoreo:"
   ]
  },
  {
   "cell_type": "code",
   "execution_count": 55,
   "metadata": {},
   "outputs": [],
   "source": [
    "best_fitness = np.zeros(max_gen)\n",
    "best_genotipe = np.zeros([n, l * n_variables])"
   ]
  },
  {
   "cell_type": "markdown",
   "metadata": {},
   "source": [
    "### Creación de la población inicial"
   ]
  },
  {
   "cell_type": "code",
   "execution_count": 56,
   "metadata": {},
   "outputs": [],
   "source": [
    "def crear_poblacion(n, l):\n",
    "    pob = np.random.randint(low = 0, high = 2, size = (n, l))\n",
    "    return pob"
   ]
  },
  {
   "cell_type": "code",
   "execution_count": 134,
   "metadata": {},
   "outputs": [],
   "source": [
    "import re\n",
    "\n",
    "def binarioADecimal(genotipo):\n",
    "    string = str(genotipo).replace(']', '').replace('[', '').replace(' ', '')\n",
    "    decimal = int(string, 2)\n",
    "    return decimal\n",
    "\n",
    "def decodifica(genotipo, rango_x, rango_y):\n",
    "    L_x = tamano_cadena(x_range, presicion)\n",
    "    L_y = tamano_cadena(y_range, presicion)\n",
    "    \n",
    "    R_x = (rango_x[1] - rango_x[0]) / (2**L_x - 1)\n",
    "    x = rango_x[0] + binarioADecimal(genotipo[:L_x])  * R_x\n",
    "    \n",
    "    R_y = (rango_y[1] - rango_y[0]) / (2**L_y - 1)\n",
    "    y = rango_y[0] + binarioADecimal(genotipo[- L_y:])  * R_y\n",
    "    return x, y\n",
    "\n",
    "def get_fenotipo(genotipo, rango_x, rango_y):\n",
    "    fenotipo = np.apply_along_axis(decodifica, axis = 0, arr = genotipo, \n",
    "                    rango_x = rango_x, rango_y = rango_y)\n",
    "    \n",
    "def objective_function(fenotipo):\n",
    "    x = fenotipo[0]\n",
    "    y = fenotipo[1]\n",
    "    f = 21.5 + (x*np.sin(4*np.pi*x)) + y*np.sin(20*np.pi*y)\n",
    "    return f\n",
    "\n",
    "def eval_obj_function(fenotipos):\n",
    "    fitness = np.apply_along_axis(objective_function, axis = 1, arr = fenotipos)\n",
    "    return fitness\n",
    "\n",
    "def rankeo(fitness, maximize = True):\n",
    "    if maximize: fitness = -1 * fitness\n",
    "    aptitud = fitness.argsort()\n",
    "    return aptitud\n",
    "\n",
    "def seleccion_ruleta(genotipo, fitness):\n",
    "    total = fitness.sum()\n",
    "    prob_seleccion = fitness/total\n",
    "    prob_acumulada = np.cumsum(prob_seleccion)\n",
    "    # iteramos por cada individuo\n",
    "    \n",
    "    return prob_acumulada"
   ]
  },
  {
   "cell_type": "code",
   "execution_count": null,
   "metadata": {},
   "outputs": [],
   "source": []
  },
  {
   "cell_type": "code",
   "execution_count": 137,
   "metadata": {},
   "outputs": [
    {
     "data": {
      "text/plain": [
       "array([0.00888889, 0.01191919, 0.02909091, 0.02909091, 0.03575758,\n",
       "       0.04525253, 0.06282828, 0.06343434, 0.07838384, 0.09070707,\n",
       "       0.09818182, 0.09919192, 0.11272727, 0.12848485, 0.14525253,\n",
       "       0.16181818, 0.16222222, 0.17636364, 0.19272727, 0.19414141,\n",
       "       0.20525253, 0.20707071, 0.21777778, 0.23252525, 0.23414141,\n",
       "       0.23777778, 0.2430303 , 0.26121212, 0.2620202 , 0.26888889,\n",
       "       0.27858586, 0.28343434, 0.30262626, 0.30505051, 0.30969697,\n",
       "       0.31313131, 0.32080808, 0.32707071, 0.32909091, 0.34808081,\n",
       "       0.35818182, 0.37191919, 0.37838384, 0.38888889, 0.40323232,\n",
       "       0.41353535, 0.41373737, 0.43111111, 0.44444444, 0.44989899,\n",
       "       0.45555556, 0.46808081, 0.47131313, 0.48282828, 0.48707071,\n",
       "       0.49515152, 0.51313131, 0.53191919, 0.54727273, 0.56505051,\n",
       "       0.57818182, 0.5979798 , 0.61494949, 0.61777778, 0.62565657,\n",
       "       0.64080808, 0.66080808, 0.67292929, 0.68161616, 0.68868687,\n",
       "       0.70323232, 0.70585859, 0.72525253, 0.73515152, 0.74646465,\n",
       "       0.76505051, 0.7759596 , 0.7820202 , 0.79494949, 0.80888889,\n",
       "       0.82484848, 0.84040404, 0.85313131, 0.86040404, 0.86868687,\n",
       "       0.87777778, 0.88949495, 0.89454545, 0.91292929, 0.92484848,\n",
       "       0.92888889, 0.94848485, 0.94969697, 0.95353535, 0.9579798 ,\n",
       "       0.97414141, 0.98262626, 0.99191919, 0.99414141, 1.        ])"
      ]
     },
     "execution_count": 137,
     "metadata": {},
     "output_type": "execute_result"
    }
   ],
   "source": [
    "genotipos = crear_poblacion(n, l)\n",
    "\n",
    "fenotipos = np.apply_along_axis(decodifica, axis = 1, arr = genotipos, \n",
    "                    rango_x = rango_x, rango_y = rango_y)\n",
    "\n",
    "objv = eval_obj_function(fenotipos)\n",
    "fitness = rankeo(fitness)\n",
    "seleccion_ruleta(genotipos, fitness)"
   ]
  },
  {
   "cell_type": "code",
   "execution_count": null,
   "metadata": {},
   "outputs": [],
   "source": []
  },
  {
   "cell_type": "code",
   "execution_count": null,
   "metadata": {},
   "outputs": [],
   "source": []
  },
  {
   "cell_type": "code",
   "execution_count": null,
   "metadata": {},
   "outputs": [],
   "source": []
  }
 ],
 "metadata": {
  "kernelspec": {
   "display_name": "Python 3",
   "language": "python",
   "name": "python3"
  },
  "language_info": {
   "codemirror_mode": {
    "name": "ipython",
    "version": 3
   },
   "file_extension": ".py",
   "mimetype": "text/x-python",
   "name": "python",
   "nbconvert_exporter": "python",
   "pygments_lexer": "ipython3",
   "version": "3.7.4"
  }
 },
 "nbformat": 4,
 "nbformat_minor": 2
}
