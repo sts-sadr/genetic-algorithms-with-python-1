{
 "cells": [
  {
   "cell_type": "markdown",
   "metadata": {},
   "source": [
    "# Algoritmo Genético Simple\n",
    "## Ejemplo de implementación\n",
    "\n",
    "Objetivo:\n",
    "\n",
    "Maximizar la siguiente función:\n",
    "\n",
    "$$f(x, y) = 21.5 + x*sin(4\\pi*x) + y*sin(20\\pi*y)$$"
   ]
  },
  {
   "cell_type": "code",
   "execution_count": 6,
   "metadata": {},
   "outputs": [],
   "source": [
    "# Definimos los rangos de las variables\n",
    "x_range = (-3.0, 12.1)\n",
    "y_range = (4.1, 5.8)\n",
    "\n",
    "presicion = 4"
   ]
  },
  {
   "cell_type": "code",
   "execution_count": 11,
   "metadata": {},
   "outputs": [],
   "source": [
    "# Tamaño de las cadenas correspondientes a cada variable\n",
    "import numpy as np\n",
    "\n",
    "def tamano_cadena(rango, presicion):\n",
    "    L = np.ceil( np.log2((rango[1] - rango[0]) * 10**presicion) )\n",
    "    return L\n",
    "\n",
    "L_x = tamano_cadena(x_range, presicion)\n",
    "L_y = tamano_cadena(y_range, presicion)"
   ]
  },
  {
   "cell_type": "code",
   "execution_count": null,
   "metadata": {},
   "outputs": [],
   "source": []
  }
 ],
 "metadata": {
  "kernelspec": {
   "display_name": "Python 3",
   "language": "python",
   "name": "python3"
  },
  "language_info": {
   "codemirror_mode": {
    "name": "ipython",
    "version": 3
   },
   "file_extension": ".py",
   "mimetype": "text/x-python",
   "name": "python",
   "nbconvert_exporter": "python",
   "pygments_lexer": "ipython3",
   "version": "3.7.4"
  }
 },
 "nbformat": 4,
 "nbformat_minor": 2
}
