{
 "cells": [
  {
   "cell_type": "markdown",
   "metadata": {},
   "source": [
    "# First Program"
   ]
  },
  {
   "cell_type": "code",
   "execution_count": null,
   "metadata": {},
   "outputs": [],
   "source": []
  },
  {
   "cell_type": "code",
   "execution_count": 4,
   "metadata": {},
   "outputs": [],
   "source": [
    "geneSet = \" abcdefghijklmnopqrstuvwxyzABCDEFGHIJKLMNOPQRSTUVWXYZ!.\"\n",
    "target = \"Hello World!\""
   ]
  },
  {
   "cell_type": "markdown",
   "metadata": {},
   "source": [
    "## Generarate a guess"
   ]
  },
  {
   "cell_type": "code",
   "execution_count": 39,
   "metadata": {},
   "outputs": [
    {
     "data": {
      "text/plain": [
       "' GhIRrsMaQ.AjqDzbFiw'"
      ]
     },
     "execution_count": 39,
     "metadata": {},
     "output_type": "execute_result"
    }
   ],
   "source": [
    "import random\n",
    "\n",
    "def generate_parent(length):\n",
    "    genes = []\n",
    "    while len(genes) < length:\n",
    "        sampleSize = min(length - len(genes), len(geneSet))\n",
    "        genes.extend(random.sample(geneSet, length))\n",
    "    return ''.join(genes)\n",
    "\n",
    "generate_parent(20)"
   ]
  },
  {
   "cell_type": "markdown",
   "metadata": {},
   "source": [
    "## Fitness\n"
   ]
  },
  {
   "cell_type": "code",
   "execution_count": 119,
   "metadata": {},
   "outputs": [
    {
     "name": "stdout",
     "output_type": "stream",
     "text": [
      "Target:\tHello World!\n",
      "Guess:\tkhCcNvjmUTX!\n",
      "Fitness: 1\n"
     ]
    }
   ],
   "source": [
    "def get_fitness(guess, target):\n",
    "    \"Itera sobre las letras de target y el guess y contabiliza los matches\"\n",
    "    fitness = sum(1 for expected, actual in zip(target, guess)\n",
    "                 if expected == actual)\n",
    "    return fitness\n",
    "\n",
    "target_length = len(target)\n",
    "guess = generate_parent(target_length)\n",
    "fitness = get_fitness(guess= guess, target= target)\n",
    "\n",
    "print(F'Target:\\t{target}\\nGuess:\\t{guess}\\nFitness: {fitness}')"
   ]
  },
  {
   "cell_type": "markdown",
   "metadata": {},
   "source": [
    "## Mutate"
   ]
  },
  {
   "cell_type": "code",
   "execution_count": 126,
   "metadata": {},
   "outputs": [
    {
     "name": "stdout",
     "output_type": "stream",
     "text": [
      "Guess:   \tNnjaMtUDhfyq\n",
      "Mutated:\tenjaMtUDhfyq\n"
     ]
    }
   ],
   "source": [
    "def mutate(parent):\n",
    "    index = random.randrange(0, len(parent)) # Se elige una posición al azar\n",
    "    childGenes = list(parent) # Se convierte en lista el string\n",
    "    # Obtienes dos nuevas letras al azar para ustituir con una a la de index\n",
    "    # np.sample garantiza que las dos no sean iguales\n",
    "    # con lo cual podrías usar cualquiera de las dos para sustituir a index sin repetirla\n",
    "    newGene, alternate = random.sample(geneSet, 2)\n",
    "    # newGene o alternate sustituirán a index (alternate en caso de que newGene == a[index])\n",
    "    childGenes[index] = alternate if newGene == childGenes[index] else newGene\n",
    "    return(''.join(childGenes))\n",
    "\n",
    "guess = generate_parent(target_length)\n",
    "mutated = mutate(guess)\n",
    "\n",
    "print(F'Guess:   \\t{guess}\\nMutated:\\t{mutated}')"
   ]
  },
  {
   "cell_type": "markdown",
   "metadata": {},
   "source": [
    "## Display"
   ]
  },
  {
   "cell_type": "code",
   "execution_count": 147,
   "metadata": {},
   "outputs": [],
   "source": [
    "import datetime\n",
    "\n",
    "def display(guess, target):\n",
    "    startTime = datetime.datetime.now()\n",
    "    # Ejecuta el fitness\n",
    "    fitness = get_fitness(guess, target)\n",
    "    timeDiff = datetime.datetime.now() - startTime\n",
    "    print(F'{guess}, {fitness}, {str(timeDiff)}')"
   ]
  },
  {
   "cell_type": "markdown",
   "metadata": {},
   "source": [
    "## Main"
   ]
  },
  {
   "cell_type": "code",
   "execution_count": 193,
   "metadata": {},
   "outputs": [
    {
     "name": "stdout",
     "output_type": "stream",
     "text": [
      "HshuzvcmWJpA, 1, 0:00:00.000004\n",
      "Hshuz cmWJpA, 2, 0:00:00.000003\n",
      "Hshuz cmrJpA, 3, 0:00:00.000004\n",
      "Hshuz corJpA, 4, 0:00:00.000002\n",
      "Hsluz corJpA, 5, 0:00:00.000003\n",
      "Hsluz corlpA, 6, 0:00:00.000002\n",
      "Hsluz corlp!, 7, 0:00:00.000002\n",
      "Hsluo corlp!, 8, 0:00:00.000002\n",
      "Hsllo corlp!, 9, 0:00:00.000004\n",
      "Hello corlp!, 10, 0:00:00.000010\n",
      "Hello Worlp!, 11, 0:00:00.000006\n",
      "Hello World!, 12, 0:00:00.000003\n"
     ]
    }
   ],
   "source": [
    "bestParent = generate_parent(target_length)\n",
    "bestFitness = get_fitness(bestParent, target)\n",
    "\n",
    "while bestParent != target:\n",
    "    child = mutate(bestParent)\n",
    "    childFitness = get_fitness(child, target)\n",
    "    if bestFitness >= childFitness:\n",
    "        continue\n",
    "    display(child, target)\n",
    "    bestFitness = childFitness\n",
    "    bestParent = child"
   ]
  },
  {
   "cell_type": "code",
   "execution_count": 1,
   "metadata": {},
   "outputs": [],
   "source": [
    "geneSet = \" abcdefghijklmnopqrstuvwxyzABCDEFGHIJKLMNOPQRSTUVWXYZ!.\"\n",
    "target = \"Hello World!\""
   ]
  },
  {
   "cell_type": "code",
   "execution_count": 117,
   "metadata": {},
   "outputs": [],
   "source": [
    "# Reusable engine\n",
    "import random\n",
    "import datetime\n",
    "\n",
    "class Chormosome:\n",
    "    def __init__(self, genes, fitness):\n",
    "        self.Genes = genes\n",
    "        self.Fitness = fitness\n",
    "\n",
    "\n",
    "class GA1:\n",
    "    def __init__(self, target, geneSet):\n",
    "        self.target = target\n",
    "        self.geneSet = geneSet\n",
    "        self.length_target = len(target)\n",
    "        self.startTime = 0\n",
    "        self.optimalFitness = 1\n",
    "\n",
    "    def _generate_parent(self):\n",
    "        genes = []\n",
    "        while len(genes) < self.length_target:\n",
    "            sampleSize = min(self.length_target - len(genes), len(self.geneSet))\n",
    "            genes.extend(random.sample(self.geneSet, sampleSize))\n",
    "        genes_str = ''.join(genes)\n",
    "        # Se obtiene el fitness\n",
    "        fitness =  self.get_fitness(genes_str)\n",
    "        parent = Chormosome(genes_str, fitness)\n",
    "        return(parent)\n",
    "\n",
    "    def _mutate(self, parent):\n",
    "        index = random.randrange(0, len(parent.Genes))\n",
    "        childGenes = list(parent.Genes)\n",
    "        newGene, alternate = random.sample(self.geneSet, 2)\n",
    "        childGenes[index] = alternate \\\n",
    "            if newGene == childGenes[index] \\\n",
    "            else newGene\n",
    "        childGenes_str = ''.join(childGenes)\n",
    "        child_fitness = self.get_fitness(childGenes_str)\n",
    "        child = Chormosome(childGenes_str, child_fitness)\n",
    "        return(child)\n",
    "\n",
    "    def get_fitness(self, genes):\n",
    "        n_matches = sum(1 for expected_i, actual_guess_i in zip(self.target, genes)\\\n",
    "                        if expected_i == actual_guess_i)\n",
    "        fitness = n_matches / self.length_target\n",
    "        return(fitness)\n",
    "\n",
    "    def display(self, parent):\n",
    "        fitness = parent.Fitness\n",
    "        timeDiff = datetime.datetime.now() - self.startTime\n",
    "        print(F'{parent.Genes}\\t{round(fitness, 3)}\\t{str(timeDiff.total_seconds())} segundos')\n",
    "\n",
    "    def get_best(self, verbose = True):\n",
    "        self.startTime = datetime.datetime.now()\n",
    "        bestParent = self._generate_parent()\n",
    "        # bestFitness = self.get_fitness(bestParent)\n",
    "        if verbose:\n",
    "            print('Guess\\t\\tFitness\\t\\tTime')\n",
    "            self.startTime = datetime.datetime.now()\n",
    "            self.display(bestParent)\n",
    "        # Optimizamos\n",
    "        while bestParent.Fitness < self.optimalFitness:\n",
    "            child = self._mutate(bestParent)\n",
    "            # Si el fitness del padre es mayor, no actualizar\n",
    "            if bestParent.Fitness >= child.Fitness:\n",
    "                continue\n",
    "            if verbose:\n",
    "                self.display(child)\n",
    "            if child.Fitness >= self.optimalFitness:\n",
    "                return(child)\n",
    "            # Si child tiene un fitness mayor al padre, pero menor al óptimo\n",
    "            # actualiza\n",
    "            bestParent = child\n",
    "\n"
   ]
  },
  {
   "cell_type": "code",
   "execution_count": 118,
   "metadata": {},
   "outputs": [],
   "source": [
    "target = 'Donde anda el perro chiquito llamado Braulio'\n",
    "ga = GA1(target, geneSet)"
   ]
  },
  {
   "cell_type": "code",
   "execution_count": 119,
   "metadata": {},
   "outputs": [
    {
     "name": "stdout",
     "output_type": "stream",
     "text": [
      "Guess\t\tFitness\t\tTime\n",
      "crbMJGmHsFzePWXBTEQiOIxjyufLnqCANgSK dURotl.\t0.045\t3e-06 segundos\n",
      "crbMJGmHsFzePWXBTEQiOIxjyutLnqCANgSK dURotl.\t0.068\t0.001796 segundos\n",
      "crbMJGaHsFzePWXBTEQiOIxjyutLnqCANgSK dURotl.\t0.091\t0.002568 segundos\n",
      "crbMJGaHsFzePWXBTEQiOIxjyutLnqCANgSK dURoti.\t0.114\t0.002895 segundos\n",
      "crbMeGaHsFzePWXBTEQiOIxjyutLnqCANgSK dURoti.\t0.136\t0.003285 segundos\n",
      "crbMeGaHsFzePWXBTEQiOIxjyutLnqCANgSK dURoli.\t0.159\t0.00405 segundos\n",
      "crbMeGaHsFzePWXBTEoiOIxjyutLnqCANgSK dURoli.\t0.182\t0.00723 segundos\n",
      "crbMeGaHsFzePWXBTEoiOIxjyutLnqCANgSK dURuli.\t0.205\t0.007645 segundos\n",
      "crbMeGaHsFzePWXBTEoiOIxjyutLnlCANgSK dURuli.\t0.227\t0.008558 segundos\n",
      "crbMeGaHsFzePWXBTEoiOIxjyitLnlCANgSK dURuli.\t0.25\t0.008774 segundos\n",
      "crbMeGaHsFzePWXBTEoiOIxjyitLnlCAmgSK dURuli.\t0.273\t0.009003 segundos\n",
      "crbMeGaHsFzePWXBTEoiOIxjyitL lCAmgSK dURuli.\t0.295\t0.010901 segundos\n",
      "crbMeGaHsFzePWXBTEoiOIxjyitL llAmgSK dURuli.\t0.318\t0.011901 segundos\n",
      "crbMeGaHsFzePWXBTEoiOIxjyitL llAmgSK drRuli.\t0.341\t0.01244 segundos\n",
      "crbMeGaHsFzePWXBTEoiOIxjyitL llAmgSK BrRuli.\t0.364\t0.01313 segundos\n",
      "crbMeGaHsFzePWXBTEo OIxjyitL llAmgSK BrRuli.\t0.386\t0.013725 segundos\n",
      "crbMeGaHsFzelWXBTEo OIxjyitL llAmgSK BrRuli.\t0.409\t0.015746 segundos\n",
      "crbMeGaHsFzelWXBTEo OIxjyito llAmgSK BrRuli.\t0.432\t0.016147 segundos\n",
      "crbMeGaHsFzelWXBTEo OIxjyito llAmgSK BrRulio\t0.455\t0.016669 segundos\n",
      "crbMeGaHsFzelWpBTEo OIxjyito llAmgSK BrRulio\t0.477\t0.01711 segundos\n",
      "crbdeGaHsFzelWpBTEo OIxjyito llAmgSK BrRulio\t0.5\t0.019466 segundos\n",
      "crbdeGaHsFzelWpeTEo OIxjyito llAmgSK BrRulio\t0.523\t0.024066 segundos\n",
      "crbdeGaHsFzelWpeTEo OIxjyito llAmaSK BrRulio\t0.545\t0.02455 segundos\n",
      "crbdeGaHsF elWpeTEo OIxjyito llAmaSK BrRulio\t0.568\t0.026109 segundos\n",
      "crbdeGaHsF elWpeTEo OIxjyito llAmadK BrRulio\t0.591\t0.02781 segundos\n",
      "crndeGaHsF elWpeTEo OIxjyito llAmadK BrRulio\t0.614\t0.028635 segundos\n",
      "condeGaHsF elWpeTEo OIxjyito llAmadK BrRulio\t0.636\t0.033129 segundos\n",
      "condeGaHsF elWperEo OIxjyito llAmadK BrRulio\t0.659\t0.033548 segundos\n",
      "condeGaHsF elWperEo cIxjyito llAmadK BrRulio\t0.682\t0.040224 segundos\n",
      "condeGaHsF elWperEo cIijyito llAmadK BrRulio\t0.705\t0.050673 segundos\n",
      "condeGaHsF elWperEo cIiqyito llAmadK BrRulio\t0.727\t0.052212 segundos\n",
      "condeGaHsF el perEo cIiqyito llAmadK BrRulio\t0.75\t0.052965 segundos\n",
      "condeGaHsF el perro cIiqyito llAmadK BrRulio\t0.773\t0.053996 segundos\n",
      "condeGaHsF el perro chiqyito llAmadK BrRulio\t0.795\t0.054589 segundos\n",
      "DondeGaHsF el perro chiqyito llAmadK BrRulio\t0.818\t0.056552 segundos\n",
      "DondeGaHsF el perro chiqyito llAmado BrRulio\t0.841\t0.064191 segundos\n",
      "DondeGaHsa el perro chiqyito llAmado BrRulio\t0.864\t0.065399 segundos\n",
      "DondeGaHsa el perro chiquito llAmado BrRulio\t0.886\t0.067205 segundos\n",
      "DondeGaHda el perro chiquito llAmado BrRulio\t0.909\t0.079705 segundos\n",
      "DondeGaHda el perro chiquito llamado BrRulio\t0.932\t0.081932 segundos\n",
      "DondeGaHda el perro chiquito llamado Braulio\t0.955\t0.082923 segundos\n",
      "DondeGanda el perro chiquito llamado Braulio\t0.977\t0.097235 segundos\n",
      "Donde anda el perro chiquito llamado Braulio\t1.0\t0.154961 segundos\n"
     ]
    },
    {
     "data": {
      "text/plain": [
       "<__main__.Chormosome at 0x7fe3ad26f310>"
      ]
     },
     "execution_count": 119,
     "metadata": {},
     "output_type": "execute_result"
    }
   ],
   "source": [
    "ga.get_best(verbose = True)"
   ]
  },
  {
   "cell_type": "code",
   "execution_count": null,
   "metadata": {},
   "outputs": [],
   "source": []
  }
 ],
 "metadata": {
  "kernelspec": {
   "display_name": "Python 3",
   "language": "python",
   "name": "python3"
  },
  "language_info": {
   "codemirror_mode": {
    "name": "ipython",
    "version": 3
   },
   "file_extension": ".py",
   "mimetype": "text/x-python",
   "name": "python",
   "nbconvert_exporter": "python",
   "pygments_lexer": "ipython3",
   "version": "3.7.4"
  }
 },
 "nbformat": 4,
 "nbformat_minor": 2
}
