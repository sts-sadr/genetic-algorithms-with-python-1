{
 "cells": [
  {
   "cell_type": "markdown",
   "metadata": {},
   "source": [
    "# First Program"
   ]
  },
  {
   "cell_type": "code",
   "execution_count": null,
   "metadata": {},
   "outputs": [],
   "source": []
  },
  {
   "cell_type": "code",
   "execution_count": 4,
   "metadata": {},
   "outputs": [],
   "source": [
    "geneSet = \" abcdefghijklmnopqrstuvwxyzABCDEFGHIJKLMNOPQRSTUVWXYZ!.\"\n",
    "target = \"Hello World!\""
   ]
  },
  {
   "cell_type": "markdown",
   "metadata": {},
   "source": [
    "## Generarate a guess"
   ]
  },
  {
   "cell_type": "code",
   "execution_count": 39,
   "metadata": {},
   "outputs": [
    {
     "data": {
      "text/plain": [
       "' GhIRrsMaQ.AjqDzbFiw'"
      ]
     },
     "execution_count": 39,
     "metadata": {},
     "output_type": "execute_result"
    }
   ],
   "source": [
    "import random\n",
    "\n",
    "def generate_parent(length):\n",
    "    genes = []\n",
    "    while len(genes) < length:\n",
    "        sampleSize = min(length - len(genes), len(geneSet))\n",
    "        genes.extend(random.sample(geneSet, length))\n",
    "    return ''.join(genes)\n",
    "\n",
    "generate_parent(20)"
   ]
  },
  {
   "cell_type": "markdown",
   "metadata": {},
   "source": [
    "## Fitness\n"
   ]
  },
  {
   "cell_type": "code",
   "execution_count": 119,
   "metadata": {},
   "outputs": [
    {
     "name": "stdout",
     "output_type": "stream",
     "text": [
      "Target:\tHello World!\n",
      "Guess:\tkhCcNvjmUTX!\n",
      "Fitness: 1\n"
     ]
    }
   ],
   "source": [
    "def get_fitness(guess, target):\n",
    "    \"Itera sobre las letras de target y el guess y contabiliza los matches\"\n",
    "    fitness = sum(1 for expected, actual in zip(target, guess)\n",
    "                 if expected == actual)\n",
    "    return fitness\n",
    "\n",
    "target_length = len(target)\n",
    "guess = generate_parent(target_length)\n",
    "fitness = get_fitness(guess= guess, target= target)\n",
    "\n",
    "print(F'Target:\\t{target}\\nGuess:\\t{guess}\\nFitness: {fitness}')"
   ]
  },
  {
   "cell_type": "markdown",
   "metadata": {},
   "source": [
    "## Mutate"
   ]
  },
  {
   "cell_type": "code",
   "execution_count": 126,
   "metadata": {},
   "outputs": [
    {
     "name": "stdout",
     "output_type": "stream",
     "text": [
      "Guess:   \tNnjaMtUDhfyq\n",
      "Mutated:\tenjaMtUDhfyq\n"
     ]
    }
   ],
   "source": [
    "def mutate(parent):\n",
    "    index = random.randrange(0, len(parent)) # Se elige una posición al azar\n",
    "    childGenes = list(parent) # Se convierte en lista el string\n",
    "    # Obtienes dos nuevas letras al azar para ustituir con una a la de index\n",
    "    # np.sample garantiza que las dos no sean iguales\n",
    "    # con lo cual podrías usar cualquiera de las dos para sustituir a index sin repetirla\n",
    "    newGene, alternate = random.sample(geneSet, 2)\n",
    "    # newGene o alternate sustituirán a index (alternate en caso de que newGene == a[index])\n",
    "    childGenes[index] = alternate if newGene == childGenes[index] else newGene\n",
    "    return(''.join(childGenes))\n",
    "\n",
    "guess = generate_parent(target_length)\n",
    "mutated = mutate(guess)\n",
    "\n",
    "print(F'Guess:   \\t{guess}\\nMutated:\\t{mutated}')"
   ]
  },
  {
   "cell_type": "markdown",
   "metadata": {},
   "source": [
    "## Display"
   ]
  },
  {
   "cell_type": "code",
   "execution_count": 147,
   "metadata": {},
   "outputs": [],
   "source": [
    "import datetime\n",
    "\n",
    "def display(guess, target):\n",
    "    startTime = datetime.datetime.now()\n",
    "    # Ejecuta el fitness\n",
    "    fitness = get_fitness(guess, target)\n",
    "    timeDiff = datetime.datetime.now() - startTime\n",
    "    print(F'{guess}, {fitness}, {str(timeDiff)}')"
   ]
  },
  {
   "cell_type": "markdown",
   "metadata": {},
   "source": [
    "## Main"
   ]
  },
  {
   "cell_type": "code",
   "execution_count": 193,
   "metadata": {},
   "outputs": [
    {
     "name": "stdout",
     "output_type": "stream",
     "text": [
      "HshuzvcmWJpA, 1, 0:00:00.000004\n",
      "Hshuz cmWJpA, 2, 0:00:00.000003\n",
      "Hshuz cmrJpA, 3, 0:00:00.000004\n",
      "Hshuz corJpA, 4, 0:00:00.000002\n",
      "Hsluz corJpA, 5, 0:00:00.000003\n",
      "Hsluz corlpA, 6, 0:00:00.000002\n",
      "Hsluz corlp!, 7, 0:00:00.000002\n",
      "Hsluo corlp!, 8, 0:00:00.000002\n",
      "Hsllo corlp!, 9, 0:00:00.000004\n",
      "Hello corlp!, 10, 0:00:00.000010\n",
      "Hello Worlp!, 11, 0:00:00.000006\n",
      "Hello World!, 12, 0:00:00.000003\n"
     ]
    }
   ],
   "source": [
    "bestParent = generate_parent(target_length)\n",
    "bestFitness = get_fitness(bestParent, target)\n",
    "\n",
    "while bestParent != target:\n",
    "    child = mutate(bestParent)\n",
    "    childFitness = get_fitness(child, target)\n",
    "    if bestFitness >= childFitness:\n",
    "        continue\n",
    "    display(child, target)\n",
    "    bestFitness = childFitness\n",
    "    bestParent = child"
   ]
  },
  {
   "cell_type": "code",
   "execution_count": 1,
   "metadata": {},
   "outputs": [],
   "source": [
    "geneSet = \" abcdefghijklmnopqrstuvwxyzABCDEFGHIJKLMNOPQRSTUVWXYZ!.\"\n",
    "target = \"Hello World!\""
   ]
  },
  {
   "cell_type": "code",
   "execution_count": 52,
   "metadata": {},
   "outputs": [],
   "source": [
    "# Reusable engine\n",
    "import random\n",
    "import datetime\n",
    "\n",
    "class GA1:\n",
    "    def __init__(self, target, geneSet):\n",
    "        self.target = target\n",
    "        self.geneSet = geneSet\n",
    "        self.length_target = len(target)\n",
    "        self.startTime = 0\n",
    "        self.optimalFitness = 1\n",
    "\n",
    "    def _generate_parent(self):\n",
    "        genes = []\n",
    "        while len(genes) < self.length_target:\n",
    "            sampleSize = min(self.length_target - len(genes), len(self.geneSet))\n",
    "            genes.extend(random.sample(self.geneSet, sampleSize))\n",
    "        return(''.join(genes))\n",
    "\n",
    "    def _mutate(self, parent):\n",
    "        index = random.randrange(0, len(parent))\n",
    "        childGenes = list(parent)\n",
    "        newGene, alternate = random.sample(self.geneSet, 2)\n",
    "        childGenes[index] = alternate \\\n",
    "            if newGene == childGenes[index] \\\n",
    "            else newGene\n",
    "        childGenes_str = ''.join(childGenes)\n",
    "        return(childGenes_str)\n",
    "\n",
    "    def get_fitness(self, genes):\n",
    "        n_matches = sum(1 for expected_i, actual_guess_i in zip(self.target, genes)\\\n",
    "                        if expected_i == actual_guess_i)\n",
    "        fitness = n_matches / self.length_target\n",
    "        return(fitness)\n",
    "\n",
    "    def display(self, genes):\n",
    "        fitness = self.get_fitness(genes)\n",
    "        timeDiff = datetime.datetime.now() - self.startTime\n",
    "        print(F'{genes}\\t{round(fitness, 3)}\\t{str(timeDiff.total_seconds())} segundos')\n",
    "\n",
    "    def get_best(self, verbose = False):\n",
    "        self.startTime = datetime.datetime.now()\n",
    "        # random.seed()\n",
    "        bestParent = self._generate_parent()\n",
    "        bestFitness = self.get_fitness(bestParent)\n",
    "        if verbose:\n",
    "            print('Guess\\t\\tFitness\\t\\tTime')\n",
    "            self.display(bestParent)\n",
    "        # Optimizamos\n",
    "        while bestFitness < self.optimalFitness:\n",
    "            child = self._mutate(bestParent)\n",
    "            childFitness = self.get_fitness(child)\n",
    "            # Si el fitness del padre es mayor, no actualizar\n",
    "            if bestFitness >= childFitness:\n",
    "                continue\n",
    "            if verbose:\n",
    "                self.display(child)\n",
    "            if childFitness >= self.optimalFitness:\n",
    "                return(child)\n",
    "            # Si child tiene un fitness mayor al padre, pero menor al óptimo\n",
    "            # actualiza\n",
    "            bestFitness = childFitness\n",
    "            bestParent = child\n",
    "\n"
   ]
  },
  {
   "cell_type": "code",
   "execution_count": 53,
   "metadata": {},
   "outputs": [],
   "source": [
    "ga = GA1(target, geneSet)"
   ]
  },
  {
   "cell_type": "code",
   "execution_count": 54,
   "metadata": {},
   "outputs": [
    {
     "data": {
      "text/plain": [
       "'Hello World!'"
      ]
     },
     "execution_count": 54,
     "metadata": {},
     "output_type": "execute_result"
    }
   ],
   "source": [
    "ga.get_best()"
   ]
  },
  {
   "cell_type": "code",
   "execution_count": null,
   "metadata": {},
   "outputs": [],
   "source": []
  }
 ],
 "metadata": {
  "kernelspec": {
   "display_name": "Python 3",
   "language": "python",
   "name": "python3"
  },
  "language_info": {
   "codemirror_mode": {
    "name": "ipython",
    "version": 3
   },
   "file_extension": ".py",
   "mimetype": "text/x-python",
   "name": "python",
   "nbconvert_exporter": "python",
   "pygments_lexer": "ipython3",
   "version": "3.7.4"
  }
 },
 "nbformat": 4,
 "nbformat_minor": 2
}
